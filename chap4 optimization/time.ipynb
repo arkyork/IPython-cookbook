{
 "cells": [
  {
   "cell_type": "code",
   "execution_count": 3,
   "metadata": {},
   "outputs": [
    {
     "name": "stdout",
     "output_type": "stream",
     "text": [
      "78.4 μs ± 825 ns per loop (mean ± std. dev. of 7 runs, 10,000 loops each)\n"
     ]
    }
   ],
   "source": [
    "s=5000\n",
    "%timeit [i for i in range(s)]"
   ]
  },
  {
   "cell_type": "code",
   "execution_count": 4,
   "metadata": {},
   "outputs": [
    {
     "name": "stdout",
     "output_type": "stream",
     "text": [
      "102 μs ± 979 ns per loop (mean ± std. dev. of 7 runs, 10,000 loops each)\n"
     ]
    }
   ],
   "source": [
    "%timeit sum([i for i in range(s)])/s"
   ]
  },
  {
   "cell_type": "code",
   "execution_count": 5,
   "metadata": {},
   "outputs": [],
   "source": [
    "import numpy as np"
   ]
  },
  {
   "cell_type": "code",
   "execution_count": 15,
   "metadata": {},
   "outputs": [
    {
     "data": {
      "text/plain": [
       "array([0.08563454, 0.19263081, 0.50438216, 0.65229435, 0.72853899,\n",
       "       0.0476431 , 0.82520018, 0.14038976, 0.99101084, 0.10327579,\n",
       "       0.51620905, 0.25761057, 0.67640769, 0.44455323, 0.44600197,\n",
       "       0.3816876 , 0.80020371, 0.54193711, 0.73875488, 0.66552632,\n",
       "       0.50447076, 0.98409791, 0.05872453, 0.9085117 , 0.04706655,\n",
       "       0.03495452, 0.10857969, 0.40374772, 0.21719919, 0.44146696,\n",
       "       0.6089482 , 0.75696661, 0.78347789, 0.45860455, 0.98863739,\n",
       "       0.14811842, 0.58775728, 0.48201582, 0.38286992, 0.9231047 ,\n",
       "       0.2791584 , 0.788192  , 0.21083546, 0.14451296, 0.75586995,\n",
       "       0.58227787, 0.22051464, 0.17633844, 0.92064472, 0.02414276,\n",
       "       0.89200338, 0.79904198, 0.62981951, 0.55563232, 0.3338344 ,\n",
       "       0.8844949 , 0.01067517, 0.95245285, 0.43916052, 0.86664318,\n",
       "       0.99288204, 0.59292957, 0.80357433, 0.2097862 , 0.37201215,\n",
       "       0.99565694])"
      ]
     },
     "execution_count": 15,
     "metadata": {},
     "output_type": "execute_result"
    }
   ],
   "source": [
    "np.random.random_sample(66)"
   ]
  },
  {
   "cell_type": "code",
   "execution_count": 17,
   "metadata": {},
   "outputs": [],
   "source": [
    "x = np.random.random_sample(66)<0.5"
   ]
  },
  {
   "cell_type": "code",
   "execution_count": 19,
   "metadata": {},
   "outputs": [
    {
     "data": {
      "text/plain": [
       "array([ 1,  2,  2,  2,  2,  3,  3,  4,  4,  5,  5,  6,  6,  6,  6,  7,  7,\n",
       "        8,  8,  8,  9, 10, 11, 11, 12, 13, 13, 13, 14, 15, 15, 16, 16, 17,\n",
       "       18, 18, 18, 18, 18, 19, 19, 20, 21, 21, 22, 22, 23, 23, 24, 25, 26,\n",
       "       26, 26, 26, 26, 26, 26, 27, 28, 28, 29, 29, 29, 29, 30, 30])"
      ]
     },
     "execution_count": 19,
     "metadata": {},
     "output_type": "execute_result"
    }
   ],
   "source": [
    "np.cumsum(x, axis=0)"
   ]
  },
  {
   "cell_type": "code",
   "execution_count": 6,
   "metadata": {},
   "outputs": [],
   "source": [
    "def step(*shape):\n",
    "    return 2 * (np.random.random_sample(shape)<.5) - 1"
   ]
  },
  {
   "cell_type": "code",
   "execution_count": 13,
   "metadata": {},
   "outputs": [
    {
     "name": "stdout",
     "output_type": "stream",
     "text": [
      " \n",
      "*** Profile printout saved to text file 'prun0'.\n"
     ]
    }
   ],
   "source": [
    "%%prun -s cumulative -q -l 10 -T prun0\n",
    "\n",
    "n = 10000\n",
    "loop = 50\n",
    "x = np.cumsum(step(loop, n), axis=0)\n",
    "bins = np.arange(-30, 30, 1)\n",
    "y = np.vstack([np.histogram(x[i,:], bins)[0]\n",
    "               for i in range(loop)])"
   ]
  },
  {
   "cell_type": "code",
   "execution_count": 14,
   "metadata": {},
   "outputs": [
    {
     "data": {
      "text/plain": [
       "array([[0, 0, 0, ..., 0, 0, 0],\n",
       "       [0, 0, 0, ..., 0, 0, 0],\n",
       "       [0, 0, 0, ..., 0, 0, 0],\n",
       "       ...,\n",
       "       [0, 0, 1, ..., 0, 0, 0],\n",
       "       [0, 1, 0, ..., 0, 0, 0],\n",
       "       [0, 0, 1, ..., 2, 0, 0]])"
      ]
     },
     "execution_count": 14,
     "metadata": {},
     "output_type": "execute_result"
    }
   ],
   "source": [
    "y"
   ]
  },
  {
   "cell_type": "code",
   "execution_count": 11,
   "metadata": {},
   "outputs": [
    {
     "name": "stdout",
     "output_type": "stream",
     "text": [
      "         5991 function calls (5807 primitive calls) in 0.038 seconds\n",
      "\n",
      "   Ordered by: cumulative time\n",
      "   List reduced from 361 to 10 due to restriction <10>\n",
      "\n",
      "   ncalls  tottime  percall  cumtime  percall filename:lineno(function)\n",
      "      3/1    0.000    0.000    0.027    0.027 <frozen importlib._bootstrap_external>:989(exec_module)\n",
      "     35/2    0.000    0.000    0.027    0.013 <frozen importlib._bootstrap>:480(_call_with_frames_removed)\n",
      "        1    0.000    0.000    0.025    0.025 __init__.py:1(<module>)\n",
      "      8/7    0.000    0.000    0.025    0.004 <frozen importlib._bootstrap>:1390(_handle_fromlist)\n",
      "        1    0.000    0.000    0.025    0.025 {built-in method builtins.__import__}\n",
      "        1    0.000    0.000    0.022    0.022 _pickle.py:1(<module>)\n",
      "      9/6    0.000    0.000    0.014    0.002 <frozen importlib._bootstrap_external>:1295(exec_module)\n",
      "      9/6    0.008    0.001    0.014    0.002 {built-in method _imp.exec_dynamic}\n",
      "       12    0.000    0.000    0.011    0.001 <frozen importlib._bootstrap>:806(module_from_spec)\n",
      "        9    0.000    0.000    0.011    0.001 <frozen importlib._bootstrap_external>:1287(create_module)\n"
     ]
    }
   ],
   "source": [
    "print(open('prun0',mode=\"r\").read())"
   ]
  },
  {
   "cell_type": "code",
   "execution_count": null,
   "metadata": {},
   "outputs": [],
   "source": []
  }
 ],
 "metadata": {
  "kernelspec": {
   "display_name": "web",
   "language": "python",
   "name": "python3"
  },
  "language_info": {
   "codemirror_mode": {
    "name": "ipython",
    "version": 3
   },
   "file_extension": ".py",
   "mimetype": "text/x-python",
   "name": "python",
   "nbconvert_exporter": "python",
   "pygments_lexer": "ipython3",
   "version": "3.12.4"
  },
  "orig_nbformat": 4
 },
 "nbformat": 4,
 "nbformat_minor": 2
}
