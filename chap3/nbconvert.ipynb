{
 "cells": [
  {
   "cell_type": "code",
   "execution_count": 1,
   "metadata": {},
   "outputs": [],
   "source": [
    "import io\n",
    "import requests"
   ]
  },
  {
   "cell_type": "code",
   "execution_count": 2,
   "metadata": {},
   "outputs": [],
   "source": [
    "url = ('https://github.com/ipython-books/'\n",
    "       'cookbook-2nd-data/blob/master/'\n",
    "       'test.ipynb?raw=true')"
   ]
  },
  {
   "cell_type": "code",
   "execution_count": 15,
   "metadata": {},
   "outputs": [
    {
     "data": {
      "text/plain": [
       "'https://github.com/ipython-books/cookbook-2nd-data/blob/master/test.ipynb?raw=true'"
      ]
     },
     "execution_count": 15,
     "metadata": {},
     "output_type": "execute_result"
    }
   ],
   "source": [
    "url"
   ]
  },
  {
   "cell_type": "code",
   "execution_count": 5,
   "metadata": {},
   "outputs": [],
   "source": [
    "data = requests.get(url).text"
   ]
  },
  {
   "cell_type": "code",
   "execution_count": 9,
   "metadata": {},
   "outputs": [
    {
     "data": {
      "text/plain": [
       "'{\\n \"cells\": [\\n  {\\n   \"cell_type\": \"markdown\",\\n   \"metadata\": {},\\n   \"source\": [\\n    \"# First chapter\"\\n   ]\\n  },\\n  {\\n   \"'"
      ]
     },
     "execution_count": 9,
     "metadata": {},
     "output_type": "execute_result"
    }
   ],
   "source": [
    "data[:120]"
   ]
  },
  {
   "cell_type": "code",
   "execution_count": 10,
   "metadata": {},
   "outputs": [
    {
     "name": "stdout",
     "output_type": "stream",
     "text": [
      "3857\n"
     ]
    }
   ],
   "source": [
    "print(len(data))"
   ]
  },
  {
   "cell_type": "code",
   "execution_count": 11,
   "metadata": {},
   "outputs": [],
   "source": [
    "import json"
   ]
  },
  {
   "cell_type": "code",
   "execution_count": 13,
   "metadata": {},
   "outputs": [],
   "source": [
    "js_data = json.loads(data)"
   ]
  },
  {
   "cell_type": "code",
   "execution_count": 14,
   "metadata": {},
   "outputs": [
    {
     "name": "stdout",
     "output_type": "stream",
     "text": [
      "dict_keys(['cells', 'metadata', 'nbformat', 'nbformat_minor'])\n"
     ]
    }
   ],
   "source": [
    "print(js_data.keys())"
   ]
  },
  {
   "cell_type": "code",
   "execution_count": 16,
   "metadata": {},
   "outputs": [
    {
     "data": {
      "text/plain": [
       "[{'cell_type': 'markdown', 'metadata': {}, 'source': ['# First chapter']},\n",
       " {'cell_type': 'markdown',\n",
       "  'metadata': {'my_field': ['value1', '2405']},\n",
       "  'source': [\"Let's write some *rich* **text** with [links](http://www.ipython.org) and lists:\\n\",\n",
       "   '\\n',\n",
       "   '* item1\\n',\n",
       "   '* item2\\n',\n",
       "   '    1. subitem\\n',\n",
       "   '    2. subitem\\n',\n",
       "   '* item3']},\n",
       " {'cell_type': 'code',\n",
       "  'execution_count': 1,\n",
       "  'metadata': {},\n",
       "  'outputs': [{'data': {'image/png': 'iVBORw0KGgoAAAANSUhEUgAAAP8AAAEMCAYAAAALeWDJAAAABHNCSVQICAgIfAhkiAAAAAlwSFlz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\\nTkSuQmCC\\n',\n",
       "     'text/plain': ['<matplotlib.figure.Figure at 0x747c080>']},\n",
       "    'metadata': {},\n",
       "    'output_type': 'display_data'}],\n",
       "  'source': ['import numpy as np\\n',\n",
       "   'import matplotlib.pyplot as plt\\n',\n",
       "   '%matplotlib inline\\n',\n",
       "   'plt.figure(figsize=(2,2));\\n',\n",
       "   \"plt.imshow(np.random.rand(10,10), interpolation='none');\\n\",\n",
       "   \"plt.axis('off');\\n\",\n",
       "   'plt.tight_layout();']}]"
      ]
     },
     "execution_count": 16,
     "metadata": {},
     "output_type": "execute_result"
    }
   ],
   "source": [
    "js_data[\"cells\"]"
   ]
  },
  {
   "cell_type": "code",
   "execution_count": 18,
   "metadata": {},
   "outputs": [],
   "source": [
    "with open('test.ipynb', 'w') as f:\n",
    "    f.write(data)"
   ]
  },
  {
   "cell_type": "code",
   "execution_count": 19,
   "metadata": {},
   "outputs": [
    {
     "name": "stderr",
     "output_type": "stream",
     "text": [
      "[NbConvertApp] Converting notebook test.ipynb to html\n",
      "[NbConvertApp] WARNING | Alternative text is missing on 1 image(s).\n",
      "[NbConvertApp] Writing 273618 bytes to test.html\n"
     ]
    }
   ],
   "source": [
    "!jupyter nbconvert --to html test.ipynb\n"
   ]
  },
  {
   "cell_type": "code",
   "execution_count": 21,
   "metadata": {},
   "outputs": [
    {
     "data": {
      "text/html": [
       "\n",
       "        <iframe\n",
       "            width=\"600\"\n",
       "            height=\"200\"\n",
       "            src=\"test.html\"\n",
       "            frameborder=\"0\"\n",
       "            allowfullscreen\n",
       "            \n",
       "        ></iframe>\n",
       "        "
      ],
      "text/plain": [
       "<IPython.lib.display.IFrame at 0x1f0b1a63410>"
      ]
     },
     "execution_count": 21,
     "metadata": {},
     "output_type": "execute_result"
    }
   ],
   "source": [
    "from IPython.display import IFrame\n",
    "IFrame('test.html', 600, 200)"
   ]
  },
  {
   "cell_type": "code",
   "execution_count": 24,
   "metadata": {},
   "outputs": [
    {
     "name": "stdout",
     "output_type": "stream",
     "text": [
      "Writing temp.tplx\n"
     ]
    }
   ],
   "source": [
    "%%writefile temp.tplx\n",
    "((*- extends 'article.tplx' -*))\n",
    "\n",
    "((* block author *))\n",
    "\\author{Cyrille Rossant}\n",
    "((* endblock author *))\n",
    "\n",
    "((* block title *))\n",
    "\\title{My document}\n",
    "((* endblock title *))"
   ]
  },
  {
   "cell_type": "code",
   "execution_count": null,
   "metadata": {},
   "outputs": [],
   "source": []
  }
 ],
 "metadata": {
  "kernelspec": {
   "display_name": "web",
   "language": "python",
   "name": "python3"
  },
  "language_info": {
   "codemirror_mode": {
    "name": "ipython",
    "version": 3
   },
   "file_extension": ".py",
   "mimetype": "text/x-python",
   "name": "python",
   "nbconvert_exporter": "python",
   "pygments_lexer": "ipython3",
   "version": "3.12.4"
  },
  "orig_nbformat": 4
 },
 "nbformat": 4,
 "nbformat_minor": 2
}
