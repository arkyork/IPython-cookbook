{
 "cells": [
  {
   "cell_type": "code",
   "execution_count": 1,
   "metadata": {},
   "outputs": [],
   "source": [
    "# ipynbはjsonで表されている"
   ]
  },
  {
   "cell_type": "code",
   "execution_count": 3,
   "metadata": {},
   "outputs": [],
   "source": [
    "import time\n",
    "from IPython.display import clear_output\n",
    "from ipythonblocks import BlockGrid, colors"
   ]
  },
  {
   "cell_type": "code",
   "execution_count": 9,
   "metadata": {},
   "outputs": [
    {
     "data": {
      "text/plain": [
       "{'AliceBlue': Color(red=240, green=248, blue=255),\n",
       " 'AntiqueWhite': Color(red=250, green=235, blue=215),\n",
       " 'Aqua': Color(red=0, green=255, blue=255),\n",
       " 'Aquamarine': Color(red=127, green=255, blue=212),\n",
       " 'Azure': Color(red=240, green=255, blue=255),\n",
       " 'Beige': Color(red=245, green=245, blue=220),\n",
       " 'Bisque': Color(red=255, green=228, blue=196),\n",
       " 'Black': Color(red=0, green=0, blue=0),\n",
       " 'BlanchedAlmond': Color(red=255, green=235, blue=205),\n",
       " 'Blue': Color(red=0, green=0, blue=255),\n",
       " 'BlueViolet': Color(red=138, green=43, blue=226),\n",
       " 'Brown': Color(red=165, green=42, blue=42),\n",
       " 'BurlyWood': Color(red=222, green=184, blue=135),\n",
       " 'CadetBlue': Color(red=95, green=158, blue=160),\n",
       " 'Chartreuse': Color(red=127, green=255, blue=0),\n",
       " 'Chocolate': Color(red=210, green=105, blue=30),\n",
       " 'Coral': Color(red=255, green=127, blue=80),\n",
       " 'CornflowerBlue': Color(red=100, green=149, blue=237),\n",
       " 'Cornsilk': Color(red=255, green=248, blue=220),\n",
       " 'Crimson': Color(red=220, green=20, blue=60),\n",
       " 'Cyan': Color(red=0, green=255, blue=255),\n",
       " 'DarkBlue': Color(red=0, green=0, blue=139),\n",
       " 'DarkCyan': Color(red=0, green=139, blue=139),\n",
       " 'DarkGoldenrod': Color(red=184, green=134, blue=11),\n",
       " 'DarkGray': Color(red=169, green=169, blue=169),\n",
       " 'DarkGreen': Color(red=0, green=100, blue=0),\n",
       " 'DarkKhaki': Color(red=189, green=183, blue=107),\n",
       " 'DarkMagenta': Color(red=139, green=0, blue=139),\n",
       " 'DarkOliveGreen': Color(red=85, green=107, blue=47),\n",
       " 'DarkOrange': Color(red=255, green=140, blue=0),\n",
       " 'DarkOrchid': Color(red=153, green=50, blue=204),\n",
       " 'DarkRed': Color(red=139, green=0, blue=0),\n",
       " 'DarkSalmon': Color(red=233, green=150, blue=122),\n",
       " 'DarkSeaGreen': Color(red=143, green=188, blue=143),\n",
       " 'DarkSlateBlue': Color(red=72, green=61, blue=139),\n",
       " 'DarkSlateGray': Color(red=47, green=79, blue=79),\n",
       " 'DarkTurquoise': Color(red=0, green=206, blue=209),\n",
       " 'DarkViolet': Color(red=148, green=0, blue=211),\n",
       " 'DeepPink': Color(red=255, green=20, blue=147),\n",
       " 'DeepSkyBlue': Color(red=0, green=191, blue=255),\n",
       " 'DimGray': Color(red=105, green=105, blue=105),\n",
       " 'DodgerBlue': Color(red=30, green=144, blue=255),\n",
       " 'FireBrick': Color(red=178, green=34, blue=34),\n",
       " 'FloralWhite': Color(red=255, green=250, blue=240),\n",
       " 'ForestGreen': Color(red=34, green=139, blue=34),\n",
       " 'Fuchsia': Color(red=255, green=0, blue=255),\n",
       " 'Gainsboro': Color(red=220, green=220, blue=220),\n",
       " 'GhostWhite': Color(red=248, green=248, blue=255),\n",
       " 'Gold': Color(red=255, green=215, blue=0),\n",
       " 'Goldenrod': Color(red=218, green=165, blue=32),\n",
       " 'Gray': Color(red=128, green=128, blue=128),\n",
       " 'Green': Color(red=0, green=128, blue=0),\n",
       " 'GreenYellow': Color(red=173, green=255, blue=47),\n",
       " 'Honeydew': Color(red=240, green=255, blue=240),\n",
       " 'HotPink': Color(red=255, green=105, blue=180),\n",
       " 'IndianRed': Color(red=205, green=92, blue=92),\n",
       " 'Indigo': Color(red=75, green=0, blue=130),\n",
       " 'Ivory': Color(red=255, green=255, blue=240),\n",
       " 'Khaki': Color(red=240, green=230, blue=140),\n",
       " 'Lavender': Color(red=230, green=230, blue=250),\n",
       " 'LavenderBlush': Color(red=255, green=240, blue=245),\n",
       " 'LawnGreen': Color(red=124, green=252, blue=0),\n",
       " 'LemonChiffon': Color(red=255, green=250, blue=205),\n",
       " 'LightBlue': Color(red=173, green=216, blue=230),\n",
       " 'LightCoral': Color(red=240, green=128, blue=128),\n",
       " 'LightCyan': Color(red=224, green=255, blue=255),\n",
       " 'LightGoldenrodYellow': Color(red=250, green=250, blue=210),\n",
       " 'LightGray': Color(red=211, green=211, blue=211),\n",
       " 'LightGreen': Color(red=144, green=238, blue=144),\n",
       " 'LightPink': Color(red=255, green=182, blue=193),\n",
       " 'LightSalmon': Color(red=255, green=160, blue=122),\n",
       " 'LightSeaGreen': Color(red=32, green=178, blue=170),\n",
       " 'LightSkyBlue': Color(red=135, green=206, blue=250),\n",
       " 'LightSlateGray': Color(red=119, green=136, blue=153),\n",
       " 'LightSteelBlue': Color(red=176, green=196, blue=222),\n",
       " 'LightYellow': Color(red=255, green=255, blue=224),\n",
       " 'Lime': Color(red=0, green=255, blue=0),\n",
       " 'LimeGreen': Color(red=50, green=205, blue=50),\n",
       " 'Linen': Color(red=250, green=240, blue=230),\n",
       " 'Magenta': Color(red=255, green=0, blue=255),\n",
       " 'Maroon': Color(red=128, green=0, blue=0),\n",
       " 'MediumAquamarine': Color(red=102, green=205, blue=170),\n",
       " 'MediumBlue': Color(red=0, green=0, blue=205),\n",
       " 'MediumOrchid': Color(red=186, green=85, blue=211),\n",
       " 'MediumPurple': Color(red=147, green=112, blue=219),\n",
       " 'MediumSeaGreen': Color(red=60, green=179, blue=113),\n",
       " 'MediumSlateBlue': Color(red=123, green=104, blue=238),\n",
       " 'MediumSpringGreen': Color(red=0, green=250, blue=154),\n",
       " 'MediumTurquoise': Color(red=72, green=209, blue=204),\n",
       " 'MediumVioletRed': Color(red=199, green=21, blue=133),\n",
       " 'MidnightBlue': Color(red=25, green=25, blue=112),\n",
       " 'MintCream': Color(red=245, green=255, blue=250),\n",
       " 'MistyRose': Color(red=255, green=228, blue=225),\n",
       " 'Moccasin': Color(red=255, green=228, blue=181),\n",
       " 'NavajoWhite': Color(red=255, green=222, blue=173),\n",
       " 'Navy': Color(red=0, green=0, blue=128),\n",
       " 'OldLace': Color(red=253, green=245, blue=230),\n",
       " 'Olive': Color(red=128, green=128, blue=0),\n",
       " 'OliveDrab': Color(red=107, green=142, blue=35),\n",
       " 'Orange': Color(red=255, green=165, blue=0),\n",
       " 'OrangeRed': Color(red=255, green=69, blue=0),\n",
       " 'Orchid': Color(red=218, green=112, blue=214),\n",
       " 'PaleGoldenrod': Color(red=238, green=232, blue=170),\n",
       " 'PaleGreen': Color(red=152, green=251, blue=152),\n",
       " 'PaleTurquoise': Color(red=175, green=238, blue=238),\n",
       " 'PaleVioletRed': Color(red=219, green=112, blue=147),\n",
       " 'PapayaWhip': Color(red=255, green=239, blue=213),\n",
       " 'PeachPuff': Color(red=255, green=218, blue=185),\n",
       " 'Peru': Color(red=205, green=133, blue=63),\n",
       " 'Pink': Color(red=255, green=192, blue=203),\n",
       " 'Plum': Color(red=221, green=160, blue=221),\n",
       " 'PowderBlue': Color(red=176, green=224, blue=230),\n",
       " 'Purple': Color(red=128, green=0, blue=128),\n",
       " 'Red': Color(red=255, green=0, blue=0),\n",
       " 'RosyBrown': Color(red=188, green=143, blue=143),\n",
       " 'RoyalBlue': Color(red=65, green=105, blue=225),\n",
       " 'SaddleBrown': Color(red=139, green=69, blue=19),\n",
       " 'Salmon': Color(red=250, green=128, blue=114),\n",
       " 'SandyBrown': Color(red=244, green=164, blue=96),\n",
       " 'SeaGreen': Color(red=46, green=139, blue=87),\n",
       " 'Seashell': Color(red=255, green=245, blue=238),\n",
       " 'Sienna': Color(red=160, green=82, blue=45),\n",
       " 'Silver': Color(red=192, green=192, blue=192),\n",
       " 'SkyBlue': Color(red=135, green=206, blue=235),\n",
       " 'SlateBlue': Color(red=106, green=90, blue=205),\n",
       " 'SlateGray': Color(red=112, green=128, blue=144),\n",
       " 'Snow': Color(red=255, green=250, blue=250),\n",
       " 'SpringGreen': Color(red=0, green=255, blue=127),\n",
       " 'SteelBlue': Color(red=70, green=130, blue=180),\n",
       " 'Tan': Color(red=210, green=180, blue=140),\n",
       " 'Teal': Color(red=0, green=128, blue=128),\n",
       " 'Thistle': Color(red=216, green=191, blue=216),\n",
       " 'Tomato': Color(red=255, green=99, blue=71),\n",
       " 'Turquoise': Color(red=64, green=224, blue=208),\n",
       " 'Violet': Color(red=238, green=130, blue=238),\n",
       " 'Wheat': Color(red=245, green=222, blue=179),\n",
       " 'White': Color(red=255, green=255, blue=255),\n",
       " 'WhiteSmoke': Color(red=245, green=245, blue=245),\n",
       " 'Yellow': Color(red=255, green=255, blue=0),\n",
       " 'YellowGreen': Color(red=154, green=205, blue=50)}"
      ]
     },
     "execution_count": 9,
     "metadata": {},
     "output_type": "execute_result"
    }
   ],
   "source": [
    "colors"
   ]
  },
  {
   "cell_type": "code",
   "execution_count": 4,
   "metadata": {},
   "outputs": [
    {
     "data": {
      "text/html": [
       "<style type=\"text/css\">table.blockgrid {border: none;} .blockgrid tr {border: none;} .blockgrid td {padding: 0px;} #blocks324c83f7-85d5-4f9e-9215-b7a93d6c3656 td {border: 1px solid white;}</style><table id=\"blocks324c83f7-85d5-4f9e-9215-b7a93d6c3656\" class=\"blockgrid\"><tbody><tr><td title=\"Index: [0, 0]&#10;Color: (0, 0, 0)\" style=\"width: 20px; height: 20px;background-color: rgb(0, 0, 0);\"></td><td title=\"Index: [0, 1]&#10;Color: (0, 0, 0)\" style=\"width: 20px; height: 20px;background-color: rgb(0, 0, 0);\"></td><td title=\"Index: [0, 2]&#10;Color: (0, 0, 0)\" style=\"width: 20px; height: 20px;background-color: rgb(0, 0, 0);\"></td><td title=\"Index: [0, 3]&#10;Color: (0, 0, 0)\" style=\"width: 20px; height: 20px;background-color: rgb(0, 0, 0);\"></td><td title=\"Index: [0, 4]&#10;Color: (0, 0, 0)\" style=\"width: 20px; height: 20px;background-color: rgb(0, 0, 0);\"></td></tr><tr><td title=\"Index: [1, 0]&#10;Color: (0, 0, 0)\" style=\"width: 20px; height: 20px;background-color: rgb(0, 0, 0);\"></td><td title=\"Index: [1, 1]&#10;Color: (0, 0, 0)\" style=\"width: 20px; height: 20px;background-color: rgb(0, 0, 0);\"></td><td title=\"Index: [1, 2]&#10;Color: (0, 0, 0)\" style=\"width: 20px; height: 20px;background-color: rgb(0, 0, 0);\"></td><td title=\"Index: [1, 3]&#10;Color: (0, 0, 0)\" style=\"width: 20px; height: 20px;background-color: rgb(0, 0, 0);\"></td><td title=\"Index: [1, 4]&#10;Color: (0, 0, 0)\" style=\"width: 20px; height: 20px;background-color: rgb(0, 0, 0);\"></td></tr><tr><td title=\"Index: [2, 0]&#10;Color: (0, 0, 0)\" style=\"width: 20px; height: 20px;background-color: rgb(0, 0, 0);\"></td><td title=\"Index: [2, 1]&#10;Color: (0, 0, 0)\" style=\"width: 20px; height: 20px;background-color: rgb(0, 0, 0);\"></td><td title=\"Index: [2, 2]&#10;Color: (0, 0, 0)\" style=\"width: 20px; height: 20px;background-color: rgb(0, 0, 0);\"></td><td title=\"Index: [2, 3]&#10;Color: (0, 0, 0)\" style=\"width: 20px; height: 20px;background-color: rgb(0, 0, 0);\"></td><td title=\"Index: [2, 4]&#10;Color: (0, 0, 0)\" style=\"width: 20px; height: 20px;background-color: rgb(0, 0, 0);\"></td></tr><tr><td title=\"Index: [3, 0]&#10;Color: (0, 0, 0)\" style=\"width: 20px; height: 20px;background-color: rgb(0, 0, 0);\"></td><td title=\"Index: [3, 1]&#10;Color: (0, 0, 0)\" style=\"width: 20px; height: 20px;background-color: rgb(0, 0, 0);\"></td><td title=\"Index: [3, 2]&#10;Color: (0, 0, 0)\" style=\"width: 20px; height: 20px;background-color: rgb(0, 0, 0);\"></td><td title=\"Index: [3, 3]&#10;Color: (0, 0, 0)\" style=\"width: 20px; height: 20px;background-color: rgb(0, 0, 0);\"></td><td title=\"Index: [3, 4]&#10;Color: (0, 0, 0)\" style=\"width: 20px; height: 20px;background-color: rgb(0, 0, 0);\"></td></tr><tr><td title=\"Index: [4, 0]&#10;Color: (0, 0, 0)\" style=\"width: 20px; height: 20px;background-color: rgb(0, 0, 0);\"></td><td title=\"Index: [4, 1]&#10;Color: (0, 0, 0)\" style=\"width: 20px; height: 20px;background-color: rgb(0, 0, 0);\"></td><td title=\"Index: [4, 2]&#10;Color: (0, 0, 0)\" style=\"width: 20px; height: 20px;background-color: rgb(0, 0, 0);\"></td><td title=\"Index: [4, 3]&#10;Color: (0, 0, 0)\" style=\"width: 20px; height: 20px;background-color: rgb(0, 0, 0);\"></td><td title=\"Index: [4, 4]&#10;Color: (0, 0, 0)\" style=\"width: 20px; height: 20px;background-color: rgb(0, 0, 0);\"></td></tr></tbody></table>"
      ],
      "text/plain": [
       "<ipythonblocks.ipythonblocks.BlockGrid at 0x292517b6d50>"
      ]
     },
     "execution_count": 4,
     "metadata": {},
     "output_type": "execute_result"
    }
   ],
   "source": [
    "BlockGrid(width=5,height=5)"
   ]
  },
  {
   "cell_type": "code",
   "execution_count": 10,
   "metadata": {},
   "outputs": [
    {
     "data": {
      "text/html": [
       "<style type=\"text/css\">table.blockgrid {border: none;} .blockgrid tr {border: none;} .blockgrid td {padding: 0px;} #blocks0c80ccc6-a8c5-456b-9a36-941a0f340a1e td {border: 1px solid white;}</style><table id=\"blocks0c80ccc6-a8c5-456b-9a36-941a0f340a1e\" class=\"blockgrid\"><tbody><tr><td title=\"Index: [0, 0]&#10;Color: (245, 222, 179)\" style=\"width: 20px; height: 20px;background-color: rgb(245, 222, 179);\"></td><td title=\"Index: [0, 1]&#10;Color: (245, 222, 179)\" style=\"width: 20px; height: 20px;background-color: rgb(245, 222, 179);\"></td><td title=\"Index: [0, 2]&#10;Color: (245, 222, 179)\" style=\"width: 20px; height: 20px;background-color: rgb(245, 222, 179);\"></td><td title=\"Index: [0, 3]&#10;Color: (245, 222, 179)\" style=\"width: 20px; height: 20px;background-color: rgb(245, 222, 179);\"></td><td title=\"Index: [0, 4]&#10;Color: (245, 222, 179)\" style=\"width: 20px; height: 20px;background-color: rgb(245, 222, 179);\"></td></tr><tr><td title=\"Index: [1, 0]&#10;Color: (245, 222, 179)\" style=\"width: 20px; height: 20px;background-color: rgb(245, 222, 179);\"></td><td title=\"Index: [1, 1]&#10;Color: (245, 222, 179)\" style=\"width: 20px; height: 20px;background-color: rgb(245, 222, 179);\"></td><td title=\"Index: [1, 2]&#10;Color: (245, 222, 179)\" style=\"width: 20px; height: 20px;background-color: rgb(245, 222, 179);\"></td><td title=\"Index: [1, 3]&#10;Color: (245, 222, 179)\" style=\"width: 20px; height: 20px;background-color: rgb(245, 222, 179);\"></td><td title=\"Index: [1, 4]&#10;Color: (245, 222, 179)\" style=\"width: 20px; height: 20px;background-color: rgb(245, 222, 179);\"></td></tr><tr><td title=\"Index: [2, 0]&#10;Color: (245, 222, 179)\" style=\"width: 20px; height: 20px;background-color: rgb(245, 222, 179);\"></td><td title=\"Index: [2, 1]&#10;Color: (245, 222, 179)\" style=\"width: 20px; height: 20px;background-color: rgb(245, 222, 179);\"></td><td title=\"Index: [2, 2]&#10;Color: (245, 222, 179)\" style=\"width: 20px; height: 20px;background-color: rgb(245, 222, 179);\"></td><td title=\"Index: [2, 3]&#10;Color: (245, 222, 179)\" style=\"width: 20px; height: 20px;background-color: rgb(245, 222, 179);\"></td><td title=\"Index: [2, 4]&#10;Color: (245, 222, 179)\" style=\"width: 20px; height: 20px;background-color: rgb(245, 222, 179);\"></td></tr><tr><td title=\"Index: [3, 0]&#10;Color: (245, 222, 179)\" style=\"width: 20px; height: 20px;background-color: rgb(245, 222, 179);\"></td><td title=\"Index: [3, 1]&#10;Color: (245, 222, 179)\" style=\"width: 20px; height: 20px;background-color: rgb(245, 222, 179);\"></td><td title=\"Index: [3, 2]&#10;Color: (245, 222, 179)\" style=\"width: 20px; height: 20px;background-color: rgb(245, 222, 179);\"></td><td title=\"Index: [3, 3]&#10;Color: (245, 222, 179)\" style=\"width: 20px; height: 20px;background-color: rgb(245, 222, 179);\"></td><td title=\"Index: [3, 4]&#10;Color: (245, 222, 179)\" style=\"width: 20px; height: 20px;background-color: rgb(245, 222, 179);\"></td></tr><tr><td title=\"Index: [4, 0]&#10;Color: (245, 222, 179)\" style=\"width: 20px; height: 20px;background-color: rgb(245, 222, 179);\"></td><td title=\"Index: [4, 1]&#10;Color: (245, 222, 179)\" style=\"width: 20px; height: 20px;background-color: rgb(245, 222, 179);\"></td><td title=\"Index: [4, 2]&#10;Color: (245, 222, 179)\" style=\"width: 20px; height: 20px;background-color: rgb(245, 222, 179);\"></td><td title=\"Index: [4, 3]&#10;Color: (245, 222, 179)\" style=\"width: 20px; height: 20px;background-color: rgb(245, 222, 179);\"></td><td title=\"Index: [4, 4]&#10;Color: (245, 222, 179)\" style=\"width: 20px; height: 20px;background-color: rgb(245, 222, 179);\"></td></tr></tbody></table>"
      ],
      "text/plain": [
       "<IPython.core.display.HTML object>"
      ]
     },
     "metadata": {},
     "output_type": "display_data"
    }
   ],
   "source": [
    "grid  = BlockGrid(width=5,height=5,fill=colors[\"Wheat\"])\n",
    "grid.show()"
   ]
  },
  {
   "cell_type": "code",
   "execution_count": 11,
   "metadata": {},
   "outputs": [
    {
     "data": {
      "text/html": [
       "<style type=\"text/css\">table.blockgrid {border: none;} .blockgrid tr {border: none;} .blockgrid td {padding: 0px;} #blocksb635bd5b-e0bd-4b8a-8fe6-56362836642c td {border: 1px solid white;}</style><table id=\"blocksb635bd5b-e0bd-4b8a-8fe6-56362836642c\" class=\"blockgrid\"><tbody><tr><td title=\"Index: [0, 0]&#10;Color: (128, 0, 128)\" style=\"width: 20px; height: 20px;background-color: rgb(128, 0, 128);\"></td><td title=\"Index: [0, 1]&#10;Color: (128, 0, 128)\" style=\"width: 20px; height: 20px;background-color: rgb(128, 0, 128);\"></td><td title=\"Index: [0, 2]&#10;Color: (128, 0, 128)\" style=\"width: 20px; height: 20px;background-color: rgb(128, 0, 128);\"></td><td title=\"Index: [0, 3]&#10;Color: (128, 0, 128)\" style=\"width: 20px; height: 20px;background-color: rgb(128, 0, 128);\"></td><td title=\"Index: [0, 4]&#10;Color: (128, 0, 128)\" style=\"width: 20px; height: 20px;background-color: rgb(128, 0, 128);\"></td></tr><tr><td title=\"Index: [1, 0]&#10;Color: (128, 0, 128)\" style=\"width: 20px; height: 20px;background-color: rgb(128, 0, 128);\"></td><td title=\"Index: [1, 1]&#10;Color: (128, 0, 128)\" style=\"width: 20px; height: 20px;background-color: rgb(128, 0, 128);\"></td><td title=\"Index: [1, 2]&#10;Color: (128, 0, 128)\" style=\"width: 20px; height: 20px;background-color: rgb(128, 0, 128);\"></td><td title=\"Index: [1, 3]&#10;Color: (128, 0, 128)\" style=\"width: 20px; height: 20px;background-color: rgb(128, 0, 128);\"></td><td title=\"Index: [1, 4]&#10;Color: (128, 0, 128)\" style=\"width: 20px; height: 20px;background-color: rgb(128, 0, 128);\"></td></tr><tr><td title=\"Index: [2, 0]&#10;Color: (128, 0, 128)\" style=\"width: 20px; height: 20px;background-color: rgb(128, 0, 128);\"></td><td title=\"Index: [2, 1]&#10;Color: (128, 0, 128)\" style=\"width: 20px; height: 20px;background-color: rgb(128, 0, 128);\"></td><td title=\"Index: [2, 2]&#10;Color: (128, 0, 128)\" style=\"width: 20px; height: 20px;background-color: rgb(128, 0, 128);\"></td><td title=\"Index: [2, 3]&#10;Color: (128, 0, 128)\" style=\"width: 20px; height: 20px;background-color: rgb(128, 0, 128);\"></td><td title=\"Index: [2, 4]&#10;Color: (128, 0, 128)\" style=\"width: 20px; height: 20px;background-color: rgb(128, 0, 128);\"></td></tr><tr><td title=\"Index: [3, 0]&#10;Color: (128, 0, 128)\" style=\"width: 20px; height: 20px;background-color: rgb(128, 0, 128);\"></td><td title=\"Index: [3, 1]&#10;Color: (128, 0, 128)\" style=\"width: 20px; height: 20px;background-color: rgb(128, 0, 128);\"></td><td title=\"Index: [3, 2]&#10;Color: (128, 0, 128)\" style=\"width: 20px; height: 20px;background-color: rgb(128, 0, 128);\"></td><td title=\"Index: [3, 3]&#10;Color: (128, 0, 128)\" style=\"width: 20px; height: 20px;background-color: rgb(128, 0, 128);\"></td><td title=\"Index: [3, 4]&#10;Color: (128, 0, 128)\" style=\"width: 20px; height: 20px;background-color: rgb(128, 0, 128);\"></td></tr><tr><td title=\"Index: [4, 0]&#10;Color: (128, 0, 128)\" style=\"width: 20px; height: 20px;background-color: rgb(128, 0, 128);\"></td><td title=\"Index: [4, 1]&#10;Color: (128, 0, 128)\" style=\"width: 20px; height: 20px;background-color: rgb(128, 0, 128);\"></td><td title=\"Index: [4, 2]&#10;Color: (128, 0, 128)\" style=\"width: 20px; height: 20px;background-color: rgb(128, 0, 128);\"></td><td title=\"Index: [4, 3]&#10;Color: (128, 0, 128)\" style=\"width: 20px; height: 20px;background-color: rgb(128, 0, 128);\"></td><td title=\"Index: [4, 4]&#10;Color: (128, 0, 128)\" style=\"width: 20px; height: 20px;background-color: rgb(128, 0, 128);\"></td></tr></tbody></table>"
      ],
      "text/plain": [
       "<IPython.core.display.HTML object>"
      ]
     },
     "metadata": {},
     "output_type": "display_data"
    }
   ],
   "source": [
    "grid = BlockGrid(width=5, height=5,\n",
    "                 fill=colors['Purple'])\n",
    "grid.show()"
   ]
  },
  {
   "cell_type": "code",
   "execution_count": 14,
   "metadata": {},
   "outputs": [
    {
     "data": {
      "text/html": [
       "<style type=\"text/css\">table.blockgrid {border: none;} .blockgrid tr {border: none;} .blockgrid td {padding: 0px;} #blocks388e10f5-46a0-4fd5-9882-1ff6005d36c4 td {border: 1px solid white;}</style><table id=\"blocks388e10f5-46a0-4fd5-9882-1ff6005d36c4\" class=\"blockgrid\"><tbody><tr><td title=\"Index: [0, 0]&#10;Color: (0, 255, 0)\" style=\"width: 20px; height: 20px;background-color: rgb(0, 255, 0);\"></td><td title=\"Index: [0, 1]&#10;Color: (128, 0, 128)\" style=\"width: 20px; height: 20px;background-color: rgb(128, 0, 128);\"></td><td title=\"Index: [0, 2]&#10;Color: (128, 0, 128)\" style=\"width: 20px; height: 20px;background-color: rgb(128, 0, 128);\"></td><td title=\"Index: [0, 3]&#10;Color: (128, 0, 128)\" style=\"width: 20px; height: 20px;background-color: rgb(128, 0, 128);\"></td><td title=\"Index: [0, 4]&#10;Color: (245, 245, 245)\" style=\"width: 20px; height: 20px;background-color: rgb(245, 245, 245);\"></td></tr><tr><td title=\"Index: [1, 0]&#10;Color: (128, 0, 128)\" style=\"width: 20px; height: 20px;background-color: rgb(128, 0, 128);\"></td><td title=\"Index: [1, 1]&#10;Color: (128, 0, 128)\" style=\"width: 20px; height: 20px;background-color: rgb(128, 0, 128);\"></td><td title=\"Index: [1, 2]&#10;Color: (128, 0, 128)\" style=\"width: 20px; height: 20px;background-color: rgb(128, 0, 128);\"></td><td title=\"Index: [1, 3]&#10;Color: (128, 0, 128)\" style=\"width: 20px; height: 20px;background-color: rgb(128, 0, 128);\"></td><td title=\"Index: [1, 4]&#10;Color: (245, 245, 245)\" style=\"width: 20px; height: 20px;background-color: rgb(245, 245, 245);\"></td></tr><tr><td title=\"Index: [2, 0]&#10;Color: (128, 0, 128)\" style=\"width: 20px; height: 20px;background-color: rgb(128, 0, 128);\"></td><td title=\"Index: [2, 1]&#10;Color: (128, 0, 128)\" style=\"width: 20px; height: 20px;background-color: rgb(128, 0, 128);\"></td><td title=\"Index: [2, 2]&#10;Color: (128, 0, 128)\" style=\"width: 20px; height: 20px;background-color: rgb(128, 0, 128);\"></td><td title=\"Index: [2, 3]&#10;Color: (128, 0, 128)\" style=\"width: 20px; height: 20px;background-color: rgb(128, 0, 128);\"></td><td title=\"Index: [2, 4]&#10;Color: (245, 245, 245)\" style=\"width: 20px; height: 20px;background-color: rgb(245, 245, 245);\"></td></tr><tr><td title=\"Index: [3, 0]&#10;Color: (128, 0, 128)\" style=\"width: 20px; height: 20px;background-color: rgb(128, 0, 128);\"></td><td title=\"Index: [3, 1]&#10;Color: (128, 0, 128)\" style=\"width: 20px; height: 20px;background-color: rgb(128, 0, 128);\"></td><td title=\"Index: [3, 2]&#10;Color: (128, 0, 128)\" style=\"width: 20px; height: 20px;background-color: rgb(128, 0, 128);\"></td><td title=\"Index: [3, 3]&#10;Color: (128, 0, 128)\" style=\"width: 20px; height: 20px;background-color: rgb(128, 0, 128);\"></td><td title=\"Index: [3, 4]&#10;Color: (245, 245, 245)\" style=\"width: 20px; height: 20px;background-color: rgb(245, 245, 245);\"></td></tr><tr><td title=\"Index: [4, 0]&#10;Color: (220, 20, 60)\" style=\"width: 20px; height: 20px;background-color: rgb(220, 20, 60);\"></td><td title=\"Index: [4, 1]&#10;Color: (128, 0, 128)\" style=\"width: 20px; height: 20px;background-color: rgb(128, 0, 128);\"></td><td title=\"Index: [4, 2]&#10;Color: (128, 0, 128)\" style=\"width: 20px; height: 20px;background-color: rgb(128, 0, 128);\"></td><td title=\"Index: [4, 3]&#10;Color: (128, 0, 128)\" style=\"width: 20px; height: 20px;background-color: rgb(128, 0, 128);\"></td><td title=\"Index: [4, 4]&#10;Color: (245, 245, 245)\" style=\"width: 20px; height: 20px;background-color: rgb(245, 245, 245);\"></td></tr></tbody></table>"
      ],
      "text/plain": [
       "<IPython.core.display.HTML object>"
      ]
     },
     "metadata": {},
     "output_type": "display_data"
    }
   ],
   "source": [
    "grid[0, 0] = colors['Lime']\n",
    "grid[-1, 0] = colors['Crimson']\n",
    "grid[:, -1] = colors['WhiteSmoke']\n",
    "grid.show()"
   ]
  },
  {
   "cell_type": "code",
   "execution_count": 15,
   "metadata": {},
   "outputs": [],
   "source": [
    "n = 5\n",
    "grid = BlockGrid(width=2*n+1,height=2*n+1,fill=colors[\"White\"])"
   ]
  },
  {
   "cell_type": "code",
   "execution_count": 16,
   "metadata": {},
   "outputs": [],
   "source": [
    "A = grid[n + 1:, :n]\n",
    "B = grid[:n, n + 1:]\n",
    "C = grid[n + 1:, n + 1:]"
   ]
  },
  {
   "cell_type": "code",
   "execution_count": 18,
   "metadata": {},
   "outputs": [
    {
     "data": {
      "text/html": [
       "<style type=\"text/css\">table.blockgrid {border: none;} .blockgrid tr {border: none;} .blockgrid td {padding: 0px;} #blocks3601d3bc-e7ab-48f7-afb5-98fd26b3b159 td {border: 1px solid white;}</style><table id=\"blocks3601d3bc-e7ab-48f7-afb5-98fd26b3b159\" class=\"blockgrid\"><tbody><tr><td title=\"Index: [0, 0]&#10;Color: (255, 255, 255)\" style=\"width: 20px; height: 20px;background-color: rgb(255, 255, 255);\"></td><td title=\"Index: [0, 1]&#10;Color: (255, 255, 255)\" style=\"width: 20px; height: 20px;background-color: rgb(255, 255, 255);\"></td><td title=\"Index: [0, 2]&#10;Color: (255, 255, 255)\" style=\"width: 20px; height: 20px;background-color: rgb(255, 255, 255);\"></td><td title=\"Index: [0, 3]&#10;Color: (255, 255, 255)\" style=\"width: 20px; height: 20px;background-color: rgb(255, 255, 255);\"></td><td title=\"Index: [0, 4]&#10;Color: (255, 255, 255)\" style=\"width: 20px; height: 20px;background-color: rgb(255, 255, 255);\"></td><td title=\"Index: [0, 5]&#10;Color: (255, 255, 255)\" style=\"width: 20px; height: 20px;background-color: rgb(255, 255, 255);\"></td><td title=\"Index: [0, 6]&#10;Color: (220, 20, 60)\" style=\"width: 20px; height: 20px;background-color: rgb(220, 20, 60);\"></td><td title=\"Index: [0, 7]&#10;Color: (220, 20, 60)\" style=\"width: 20px; height: 20px;background-color: rgb(220, 20, 60);\"></td><td title=\"Index: [0, 8]&#10;Color: (220, 20, 60)\" style=\"width: 20px; height: 20px;background-color: rgb(220, 20, 60);\"></td><td title=\"Index: [0, 9]&#10;Color: (220, 20, 60)\" style=\"width: 20px; height: 20px;background-color: rgb(220, 20, 60);\"></td><td title=\"Index: [0, 10]&#10;Color: (220, 20, 60)\" style=\"width: 20px; height: 20px;background-color: rgb(220, 20, 60);\"></td></tr><tr><td title=\"Index: [1, 0]&#10;Color: (255, 255, 255)\" style=\"width: 20px; height: 20px;background-color: rgb(255, 255, 255);\"></td><td title=\"Index: [1, 1]&#10;Color: (255, 255, 255)\" style=\"width: 20px; height: 20px;background-color: rgb(255, 255, 255);\"></td><td title=\"Index: [1, 2]&#10;Color: (255, 255, 255)\" style=\"width: 20px; height: 20px;background-color: rgb(255, 255, 255);\"></td><td title=\"Index: [1, 3]&#10;Color: (255, 255, 255)\" style=\"width: 20px; height: 20px;background-color: rgb(255, 255, 255);\"></td><td title=\"Index: [1, 4]&#10;Color: (255, 255, 255)\" style=\"width: 20px; height: 20px;background-color: rgb(255, 255, 255);\"></td><td title=\"Index: [1, 5]&#10;Color: (255, 255, 255)\" style=\"width: 20px; height: 20px;background-color: rgb(255, 255, 255);\"></td><td title=\"Index: [1, 6]&#10;Color: (220, 20, 60)\" style=\"width: 20px; height: 20px;background-color: rgb(220, 20, 60);\"></td><td title=\"Index: [1, 7]&#10;Color: (220, 20, 60)\" style=\"width: 20px; height: 20px;background-color: rgb(220, 20, 60);\"></td><td title=\"Index: [1, 8]&#10;Color: (220, 20, 60)\" style=\"width: 20px; height: 20px;background-color: rgb(220, 20, 60);\"></td><td title=\"Index: [1, 9]&#10;Color: (220, 20, 60)\" style=\"width: 20px; height: 20px;background-color: rgb(220, 20, 60);\"></td><td title=\"Index: [1, 10]&#10;Color: (220, 20, 60)\" style=\"width: 20px; height: 20px;background-color: rgb(220, 20, 60);\"></td></tr><tr><td title=\"Index: [2, 0]&#10;Color: (255, 255, 255)\" style=\"width: 20px; height: 20px;background-color: rgb(255, 255, 255);\"></td><td title=\"Index: [2, 1]&#10;Color: (255, 255, 255)\" style=\"width: 20px; height: 20px;background-color: rgb(255, 255, 255);\"></td><td title=\"Index: [2, 2]&#10;Color: (255, 255, 255)\" style=\"width: 20px; height: 20px;background-color: rgb(255, 255, 255);\"></td><td title=\"Index: [2, 3]&#10;Color: (255, 255, 255)\" style=\"width: 20px; height: 20px;background-color: rgb(255, 255, 255);\"></td><td title=\"Index: [2, 4]&#10;Color: (255, 255, 255)\" style=\"width: 20px; height: 20px;background-color: rgb(255, 255, 255);\"></td><td title=\"Index: [2, 5]&#10;Color: (255, 255, 255)\" style=\"width: 20px; height: 20px;background-color: rgb(255, 255, 255);\"></td><td title=\"Index: [2, 6]&#10;Color: (220, 20, 60)\" style=\"width: 20px; height: 20px;background-color: rgb(220, 20, 60);\"></td><td title=\"Index: [2, 7]&#10;Color: (220, 20, 60)\" style=\"width: 20px; height: 20px;background-color: rgb(220, 20, 60);\"></td><td title=\"Index: [2, 8]&#10;Color: (220, 20, 60)\" style=\"width: 20px; height: 20px;background-color: rgb(220, 20, 60);\"></td><td title=\"Index: [2, 9]&#10;Color: (220, 20, 60)\" style=\"width: 20px; height: 20px;background-color: rgb(220, 20, 60);\"></td><td title=\"Index: [2, 10]&#10;Color: (220, 20, 60)\" style=\"width: 20px; height: 20px;background-color: rgb(220, 20, 60);\"></td></tr><tr><td title=\"Index: [3, 0]&#10;Color: (255, 255, 255)\" style=\"width: 20px; height: 20px;background-color: rgb(255, 255, 255);\"></td><td title=\"Index: [3, 1]&#10;Color: (255, 255, 255)\" style=\"width: 20px; height: 20px;background-color: rgb(255, 255, 255);\"></td><td title=\"Index: [3, 2]&#10;Color: (255, 255, 255)\" style=\"width: 20px; height: 20px;background-color: rgb(255, 255, 255);\"></td><td title=\"Index: [3, 3]&#10;Color: (255, 255, 255)\" style=\"width: 20px; height: 20px;background-color: rgb(255, 255, 255);\"></td><td title=\"Index: [3, 4]&#10;Color: (255, 255, 255)\" style=\"width: 20px; height: 20px;background-color: rgb(255, 255, 255);\"></td><td title=\"Index: [3, 5]&#10;Color: (255, 255, 255)\" style=\"width: 20px; height: 20px;background-color: rgb(255, 255, 255);\"></td><td title=\"Index: [3, 6]&#10;Color: (220, 20, 60)\" style=\"width: 20px; height: 20px;background-color: rgb(220, 20, 60);\"></td><td title=\"Index: [3, 7]&#10;Color: (220, 20, 60)\" style=\"width: 20px; height: 20px;background-color: rgb(220, 20, 60);\"></td><td title=\"Index: [3, 8]&#10;Color: (220, 20, 60)\" style=\"width: 20px; height: 20px;background-color: rgb(220, 20, 60);\"></td><td title=\"Index: [3, 9]&#10;Color: (220, 20, 60)\" style=\"width: 20px; height: 20px;background-color: rgb(220, 20, 60);\"></td><td title=\"Index: [3, 10]&#10;Color: (220, 20, 60)\" style=\"width: 20px; height: 20px;background-color: rgb(220, 20, 60);\"></td></tr><tr><td title=\"Index: [4, 0]&#10;Color: (255, 255, 255)\" style=\"width: 20px; height: 20px;background-color: rgb(255, 255, 255);\"></td><td title=\"Index: [4, 1]&#10;Color: (255, 255, 255)\" style=\"width: 20px; height: 20px;background-color: rgb(255, 255, 255);\"></td><td title=\"Index: [4, 2]&#10;Color: (255, 255, 255)\" style=\"width: 20px; height: 20px;background-color: rgb(255, 255, 255);\"></td><td title=\"Index: [4, 3]&#10;Color: (255, 255, 255)\" style=\"width: 20px; height: 20px;background-color: rgb(255, 255, 255);\"></td><td title=\"Index: [4, 4]&#10;Color: (255, 255, 255)\" style=\"width: 20px; height: 20px;background-color: rgb(255, 255, 255);\"></td><td title=\"Index: [4, 5]&#10;Color: (255, 255, 255)\" style=\"width: 20px; height: 20px;background-color: rgb(255, 255, 255);\"></td><td title=\"Index: [4, 6]&#10;Color: (220, 20, 60)\" style=\"width: 20px; height: 20px;background-color: rgb(220, 20, 60);\"></td><td title=\"Index: [4, 7]&#10;Color: (220, 20, 60)\" style=\"width: 20px; height: 20px;background-color: rgb(220, 20, 60);\"></td><td title=\"Index: [4, 8]&#10;Color: (220, 20, 60)\" style=\"width: 20px; height: 20px;background-color: rgb(220, 20, 60);\"></td><td title=\"Index: [4, 9]&#10;Color: (220, 20, 60)\" style=\"width: 20px; height: 20px;background-color: rgb(220, 20, 60);\"></td><td title=\"Index: [4, 10]&#10;Color: (220, 20, 60)\" style=\"width: 20px; height: 20px;background-color: rgb(220, 20, 60);\"></td></tr><tr><td title=\"Index: [5, 0]&#10;Color: (255, 255, 255)\" style=\"width: 20px; height: 20px;background-color: rgb(255, 255, 255);\"></td><td title=\"Index: [5, 1]&#10;Color: (255, 255, 255)\" style=\"width: 20px; height: 20px;background-color: rgb(255, 255, 255);\"></td><td title=\"Index: [5, 2]&#10;Color: (255, 255, 255)\" style=\"width: 20px; height: 20px;background-color: rgb(255, 255, 255);\"></td><td title=\"Index: [5, 3]&#10;Color: (255, 255, 255)\" style=\"width: 20px; height: 20px;background-color: rgb(255, 255, 255);\"></td><td title=\"Index: [5, 4]&#10;Color: (255, 255, 255)\" style=\"width: 20px; height: 20px;background-color: rgb(255, 255, 255);\"></td><td title=\"Index: [5, 5]&#10;Color: (255, 255, 255)\" style=\"width: 20px; height: 20px;background-color: rgb(255, 255, 255);\"></td><td title=\"Index: [5, 6]&#10;Color: (255, 255, 255)\" style=\"width: 20px; height: 20px;background-color: rgb(255, 255, 255);\"></td><td title=\"Index: [5, 7]&#10;Color: (255, 255, 255)\" style=\"width: 20px; height: 20px;background-color: rgb(255, 255, 255);\"></td><td title=\"Index: [5, 8]&#10;Color: (255, 255, 255)\" style=\"width: 20px; height: 20px;background-color: rgb(255, 255, 255);\"></td><td title=\"Index: [5, 9]&#10;Color: (255, 255, 255)\" style=\"width: 20px; height: 20px;background-color: rgb(255, 255, 255);\"></td><td title=\"Index: [5, 10]&#10;Color: (255, 255, 255)\" style=\"width: 20px; height: 20px;background-color: rgb(255, 255, 255);\"></td></tr><tr><td title=\"Index: [6, 0]&#10;Color: (0, 255, 0)\" style=\"width: 20px; height: 20px;background-color: rgb(0, 255, 0);\"></td><td title=\"Index: [6, 1]&#10;Color: (0, 255, 0)\" style=\"width: 20px; height: 20px;background-color: rgb(0, 255, 0);\"></td><td title=\"Index: [6, 2]&#10;Color: (0, 255, 0)\" style=\"width: 20px; height: 20px;background-color: rgb(0, 255, 0);\"></td><td title=\"Index: [6, 3]&#10;Color: (0, 255, 0)\" style=\"width: 20px; height: 20px;background-color: rgb(0, 255, 0);\"></td><td title=\"Index: [6, 4]&#10;Color: (0, 255, 0)\" style=\"width: 20px; height: 20px;background-color: rgb(0, 255, 0);\"></td><td title=\"Index: [6, 5]&#10;Color: (255, 255, 255)\" style=\"width: 20px; height: 20px;background-color: rgb(255, 255, 255);\"></td><td title=\"Index: [6, 6]&#10;Color: (255, 255, 0)\" style=\"width: 20px; height: 20px;background-color: rgb(255, 255, 0);\"></td><td title=\"Index: [6, 7]&#10;Color: (255, 255, 0)\" style=\"width: 20px; height: 20px;background-color: rgb(255, 255, 0);\"></td><td title=\"Index: [6, 8]&#10;Color: (255, 255, 0)\" style=\"width: 20px; height: 20px;background-color: rgb(255, 255, 0);\"></td><td title=\"Index: [6, 9]&#10;Color: (255, 255, 0)\" style=\"width: 20px; height: 20px;background-color: rgb(255, 255, 0);\"></td><td title=\"Index: [6, 10]&#10;Color: (255, 255, 0)\" style=\"width: 20px; height: 20px;background-color: rgb(255, 255, 0);\"></td></tr><tr><td title=\"Index: [7, 0]&#10;Color: (0, 255, 0)\" style=\"width: 20px; height: 20px;background-color: rgb(0, 255, 0);\"></td><td title=\"Index: [7, 1]&#10;Color: (0, 255, 0)\" style=\"width: 20px; height: 20px;background-color: rgb(0, 255, 0);\"></td><td title=\"Index: [7, 2]&#10;Color: (0, 255, 0)\" style=\"width: 20px; height: 20px;background-color: rgb(0, 255, 0);\"></td><td title=\"Index: [7, 3]&#10;Color: (0, 255, 0)\" style=\"width: 20px; height: 20px;background-color: rgb(0, 255, 0);\"></td><td title=\"Index: [7, 4]&#10;Color: (0, 255, 0)\" style=\"width: 20px; height: 20px;background-color: rgb(0, 255, 0);\"></td><td title=\"Index: [7, 5]&#10;Color: (255, 255, 255)\" style=\"width: 20px; height: 20px;background-color: rgb(255, 255, 255);\"></td><td title=\"Index: [7, 6]&#10;Color: (255, 255, 0)\" style=\"width: 20px; height: 20px;background-color: rgb(255, 255, 0);\"></td><td title=\"Index: [7, 7]&#10;Color: (255, 255, 0)\" style=\"width: 20px; height: 20px;background-color: rgb(255, 255, 0);\"></td><td title=\"Index: [7, 8]&#10;Color: (255, 255, 0)\" style=\"width: 20px; height: 20px;background-color: rgb(255, 255, 0);\"></td><td title=\"Index: [7, 9]&#10;Color: (255, 255, 0)\" style=\"width: 20px; height: 20px;background-color: rgb(255, 255, 0);\"></td><td title=\"Index: [7, 10]&#10;Color: (255, 255, 0)\" style=\"width: 20px; height: 20px;background-color: rgb(255, 255, 0);\"></td></tr><tr><td title=\"Index: [8, 0]&#10;Color: (0, 255, 0)\" style=\"width: 20px; height: 20px;background-color: rgb(0, 255, 0);\"></td><td title=\"Index: [8, 1]&#10;Color: (0, 255, 0)\" style=\"width: 20px; height: 20px;background-color: rgb(0, 255, 0);\"></td><td title=\"Index: [8, 2]&#10;Color: (0, 255, 0)\" style=\"width: 20px; height: 20px;background-color: rgb(0, 255, 0);\"></td><td title=\"Index: [8, 3]&#10;Color: (0, 255, 0)\" style=\"width: 20px; height: 20px;background-color: rgb(0, 255, 0);\"></td><td title=\"Index: [8, 4]&#10;Color: (0, 255, 0)\" style=\"width: 20px; height: 20px;background-color: rgb(0, 255, 0);\"></td><td title=\"Index: [8, 5]&#10;Color: (255, 255, 255)\" style=\"width: 20px; height: 20px;background-color: rgb(255, 255, 255);\"></td><td title=\"Index: [8, 6]&#10;Color: (255, 255, 0)\" style=\"width: 20px; height: 20px;background-color: rgb(255, 255, 0);\"></td><td title=\"Index: [8, 7]&#10;Color: (255, 255, 0)\" style=\"width: 20px; height: 20px;background-color: rgb(255, 255, 0);\"></td><td title=\"Index: [8, 8]&#10;Color: (255, 255, 0)\" style=\"width: 20px; height: 20px;background-color: rgb(255, 255, 0);\"></td><td title=\"Index: [8, 9]&#10;Color: (255, 255, 0)\" style=\"width: 20px; height: 20px;background-color: rgb(255, 255, 0);\"></td><td title=\"Index: [8, 10]&#10;Color: (255, 255, 0)\" style=\"width: 20px; height: 20px;background-color: rgb(255, 255, 0);\"></td></tr><tr><td title=\"Index: [9, 0]&#10;Color: (0, 255, 0)\" style=\"width: 20px; height: 20px;background-color: rgb(0, 255, 0);\"></td><td title=\"Index: [9, 1]&#10;Color: (0, 255, 0)\" style=\"width: 20px; height: 20px;background-color: rgb(0, 255, 0);\"></td><td title=\"Index: [9, 2]&#10;Color: (0, 255, 0)\" style=\"width: 20px; height: 20px;background-color: rgb(0, 255, 0);\"></td><td title=\"Index: [9, 3]&#10;Color: (0, 255, 0)\" style=\"width: 20px; height: 20px;background-color: rgb(0, 255, 0);\"></td><td title=\"Index: [9, 4]&#10;Color: (0, 255, 0)\" style=\"width: 20px; height: 20px;background-color: rgb(0, 255, 0);\"></td><td title=\"Index: [9, 5]&#10;Color: (255, 255, 255)\" style=\"width: 20px; height: 20px;background-color: rgb(255, 255, 255);\"></td><td title=\"Index: [9, 6]&#10;Color: (255, 255, 0)\" style=\"width: 20px; height: 20px;background-color: rgb(255, 255, 0);\"></td><td title=\"Index: [9, 7]&#10;Color: (255, 255, 0)\" style=\"width: 20px; height: 20px;background-color: rgb(255, 255, 0);\"></td><td title=\"Index: [9, 8]&#10;Color: (255, 255, 0)\" style=\"width: 20px; height: 20px;background-color: rgb(255, 255, 0);\"></td><td title=\"Index: [9, 9]&#10;Color: (255, 255, 0)\" style=\"width: 20px; height: 20px;background-color: rgb(255, 255, 0);\"></td><td title=\"Index: [9, 10]&#10;Color: (255, 255, 0)\" style=\"width: 20px; height: 20px;background-color: rgb(255, 255, 0);\"></td></tr><tr><td title=\"Index: [10, 0]&#10;Color: (0, 255, 0)\" style=\"width: 20px; height: 20px;background-color: rgb(0, 255, 0);\"></td><td title=\"Index: [10, 1]&#10;Color: (0, 255, 0)\" style=\"width: 20px; height: 20px;background-color: rgb(0, 255, 0);\"></td><td title=\"Index: [10, 2]&#10;Color: (0, 255, 0)\" style=\"width: 20px; height: 20px;background-color: rgb(0, 255, 0);\"></td><td title=\"Index: [10, 3]&#10;Color: (0, 255, 0)\" style=\"width: 20px; height: 20px;background-color: rgb(0, 255, 0);\"></td><td title=\"Index: [10, 4]&#10;Color: (0, 255, 0)\" style=\"width: 20px; height: 20px;background-color: rgb(0, 255, 0);\"></td><td title=\"Index: [10, 5]&#10;Color: (255, 255, 255)\" style=\"width: 20px; height: 20px;background-color: rgb(255, 255, 255);\"></td><td title=\"Index: [10, 6]&#10;Color: (255, 255, 0)\" style=\"width: 20px; height: 20px;background-color: rgb(255, 255, 0);\"></td><td title=\"Index: [10, 7]&#10;Color: (255, 255, 0)\" style=\"width: 20px; height: 20px;background-color: rgb(255, 255, 0);\"></td><td title=\"Index: [10, 8]&#10;Color: (255, 255, 0)\" style=\"width: 20px; height: 20px;background-color: rgb(255, 255, 0);\"></td><td title=\"Index: [10, 9]&#10;Color: (255, 255, 0)\" style=\"width: 20px; height: 20px;background-color: rgb(255, 255, 0);\"></td><td title=\"Index: [10, 10]&#10;Color: (255, 255, 0)\" style=\"width: 20px; height: 20px;background-color: rgb(255, 255, 0);\"></td></tr></tbody></table>"
      ],
      "text/plain": [
       "<IPython.core.display.HTML object>"
      ]
     },
     "metadata": {},
     "output_type": "display_data"
    }
   ],
   "source": [
    "A[:, :] = colors['Lime']\n",
    "B[:, :] = colors['Crimson']\n",
    "C[:, :] = colors['Yellow']\n",
    "grid.show()"
   ]
  },
  {
   "cell_type": "code",
   "execution_count": 21,
   "metadata": {},
   "outputs": [
    {
     "data": {
      "text/html": [
       "<style type=\"text/css\">table.blockgrid {border: none;} .blockgrid tr {border: none;} .blockgrid td {padding: 0px;} #blocks933d343a-efdd-420f-8af4-79d0fcd8c8bd td {border: 1px solid white;}</style><table id=\"blocks933d343a-efdd-420f-8af4-79d0fcd8c8bd\" class=\"blockgrid\"><tbody><tr><td title=\"Index: [0, 0]&#10;Color: (255, 255, 255)\" style=\"width: 20px; height: 20px;background-color: rgb(255, 255, 255);\"></td><td title=\"Index: [0, 1]&#10;Color: (255, 255, 255)\" style=\"width: 20px; height: 20px;background-color: rgb(255, 255, 255);\"></td><td title=\"Index: [0, 2]&#10;Color: (255, 255, 255)\" style=\"width: 20px; height: 20px;background-color: rgb(255, 255, 255);\"></td><td title=\"Index: [0, 3]&#10;Color: (255, 255, 255)\" style=\"width: 20px; height: 20px;background-color: rgb(255, 255, 255);\"></td><td title=\"Index: [0, 4]&#10;Color: (255, 255, 255)\" style=\"width: 20px; height: 20px;background-color: rgb(255, 255, 255);\"></td><td title=\"Index: [0, 5]&#10;Color: (255, 255, 255)\" style=\"width: 20px; height: 20px;background-color: rgb(255, 255, 255);\"></td><td title=\"Index: [0, 6]&#10;Color: (220, 20, 60)\" style=\"width: 20px; height: 20px;background-color: rgb(220, 20, 60);\"></td><td title=\"Index: [0, 7]&#10;Color: (220, 20, 60)\" style=\"width: 20px; height: 20px;background-color: rgb(220, 20, 60);\"></td><td title=\"Index: [0, 8]&#10;Color: (220, 20, 60)\" style=\"width: 20px; height: 20px;background-color: rgb(220, 20, 60);\"></td><td title=\"Index: [0, 9]&#10;Color: (220, 20, 60)\" style=\"width: 20px; height: 20px;background-color: rgb(220, 20, 60);\"></td><td title=\"Index: [0, 10]&#10;Color: (128, 0, 128)\" style=\"width: 20px; height: 20px;background-color: rgb(128, 0, 128);\"></td></tr><tr><td title=\"Index: [1, 0]&#10;Color: (255, 255, 255)\" style=\"width: 20px; height: 20px;background-color: rgb(255, 255, 255);\"></td><td title=\"Index: [1, 1]&#10;Color: (255, 255, 255)\" style=\"width: 20px; height: 20px;background-color: rgb(255, 255, 255);\"></td><td title=\"Index: [1, 2]&#10;Color: (255, 255, 255)\" style=\"width: 20px; height: 20px;background-color: rgb(255, 255, 255);\"></td><td title=\"Index: [1, 3]&#10;Color: (255, 255, 255)\" style=\"width: 20px; height: 20px;background-color: rgb(255, 255, 255);\"></td><td title=\"Index: [1, 4]&#10;Color: (255, 255, 255)\" style=\"width: 20px; height: 20px;background-color: rgb(255, 255, 255);\"></td><td title=\"Index: [1, 5]&#10;Color: (255, 255, 255)\" style=\"width: 20px; height: 20px;background-color: rgb(255, 255, 255);\"></td><td title=\"Index: [1, 6]&#10;Color: (220, 20, 60)\" style=\"width: 20px; height: 20px;background-color: rgb(220, 20, 60);\"></td><td title=\"Index: [1, 7]&#10;Color: (220, 20, 60)\" style=\"width: 20px; height: 20px;background-color: rgb(220, 20, 60);\"></td><td title=\"Index: [1, 8]&#10;Color: (220, 20, 60)\" style=\"width: 20px; height: 20px;background-color: rgb(220, 20, 60);\"></td><td title=\"Index: [1, 9]&#10;Color: (220, 20, 60)\" style=\"width: 20px; height: 20px;background-color: rgb(220, 20, 60);\"></td><td title=\"Index: [1, 10]&#10;Color: (128, 0, 128)\" style=\"width: 20px; height: 20px;background-color: rgb(128, 0, 128);\"></td></tr><tr><td title=\"Index: [2, 0]&#10;Color: (255, 255, 255)\" style=\"width: 20px; height: 20px;background-color: rgb(255, 255, 255);\"></td><td title=\"Index: [2, 1]&#10;Color: (255, 255, 255)\" style=\"width: 20px; height: 20px;background-color: rgb(255, 255, 255);\"></td><td title=\"Index: [2, 2]&#10;Color: (255, 255, 255)\" style=\"width: 20px; height: 20px;background-color: rgb(255, 255, 255);\"></td><td title=\"Index: [2, 3]&#10;Color: (255, 255, 255)\" style=\"width: 20px; height: 20px;background-color: rgb(255, 255, 255);\"></td><td title=\"Index: [2, 4]&#10;Color: (255, 255, 255)\" style=\"width: 20px; height: 20px;background-color: rgb(255, 255, 255);\"></td><td title=\"Index: [2, 5]&#10;Color: (255, 255, 255)\" style=\"width: 20px; height: 20px;background-color: rgb(255, 255, 255);\"></td><td title=\"Index: [2, 6]&#10;Color: (220, 20, 60)\" style=\"width: 20px; height: 20px;background-color: rgb(220, 20, 60);\"></td><td title=\"Index: [2, 7]&#10;Color: (220, 20, 60)\" style=\"width: 20px; height: 20px;background-color: rgb(220, 20, 60);\"></td><td title=\"Index: [2, 8]&#10;Color: (220, 20, 60)\" style=\"width: 20px; height: 20px;background-color: rgb(220, 20, 60);\"></td><td title=\"Index: [2, 9]&#10;Color: (220, 20, 60)\" style=\"width: 20px; height: 20px;background-color: rgb(220, 20, 60);\"></td><td title=\"Index: [2, 10]&#10;Color: (128, 0, 128)\" style=\"width: 20px; height: 20px;background-color: rgb(128, 0, 128);\"></td></tr><tr><td title=\"Index: [3, 0]&#10;Color: (255, 255, 255)\" style=\"width: 20px; height: 20px;background-color: rgb(255, 255, 255);\"></td><td title=\"Index: [3, 1]&#10;Color: (255, 255, 255)\" style=\"width: 20px; height: 20px;background-color: rgb(255, 255, 255);\"></td><td title=\"Index: [3, 2]&#10;Color: (255, 255, 255)\" style=\"width: 20px; height: 20px;background-color: rgb(255, 255, 255);\"></td><td title=\"Index: [3, 3]&#10;Color: (255, 255, 255)\" style=\"width: 20px; height: 20px;background-color: rgb(255, 255, 255);\"></td><td title=\"Index: [3, 4]&#10;Color: (255, 255, 255)\" style=\"width: 20px; height: 20px;background-color: rgb(255, 255, 255);\"></td><td title=\"Index: [3, 5]&#10;Color: (255, 255, 255)\" style=\"width: 20px; height: 20px;background-color: rgb(255, 255, 255);\"></td><td title=\"Index: [3, 6]&#10;Color: (220, 20, 60)\" style=\"width: 20px; height: 20px;background-color: rgb(220, 20, 60);\"></td><td title=\"Index: [3, 7]&#10;Color: (220, 20, 60)\" style=\"width: 20px; height: 20px;background-color: rgb(220, 20, 60);\"></td><td title=\"Index: [3, 8]&#10;Color: (220, 20, 60)\" style=\"width: 20px; height: 20px;background-color: rgb(220, 20, 60);\"></td><td title=\"Index: [3, 9]&#10;Color: (220, 20, 60)\" style=\"width: 20px; height: 20px;background-color: rgb(220, 20, 60);\"></td><td title=\"Index: [3, 10]&#10;Color: (128, 0, 128)\" style=\"width: 20px; height: 20px;background-color: rgb(128, 0, 128);\"></td></tr><tr><td title=\"Index: [4, 0]&#10;Color: (255, 255, 255)\" style=\"width: 20px; height: 20px;background-color: rgb(255, 255, 255);\"></td><td title=\"Index: [4, 1]&#10;Color: (255, 255, 255)\" style=\"width: 20px; height: 20px;background-color: rgb(255, 255, 255);\"></td><td title=\"Index: [4, 2]&#10;Color: (255, 255, 255)\" style=\"width: 20px; height: 20px;background-color: rgb(255, 255, 255);\"></td><td title=\"Index: [4, 3]&#10;Color: (255, 255, 255)\" style=\"width: 20px; height: 20px;background-color: rgb(255, 255, 255);\"></td><td title=\"Index: [4, 4]&#10;Color: (255, 255, 255)\" style=\"width: 20px; height: 20px;background-color: rgb(255, 255, 255);\"></td><td title=\"Index: [4, 5]&#10;Color: (255, 255, 255)\" style=\"width: 20px; height: 20px;background-color: rgb(255, 255, 255);\"></td><td title=\"Index: [4, 6]&#10;Color: (220, 20, 60)\" style=\"width: 20px; height: 20px;background-color: rgb(220, 20, 60);\"></td><td title=\"Index: [4, 7]&#10;Color: (220, 20, 60)\" style=\"width: 20px; height: 20px;background-color: rgb(220, 20, 60);\"></td><td title=\"Index: [4, 8]&#10;Color: (220, 20, 60)\" style=\"width: 20px; height: 20px;background-color: rgb(220, 20, 60);\"></td><td title=\"Index: [4, 9]&#10;Color: (220, 20, 60)\" style=\"width: 20px; height: 20px;background-color: rgb(220, 20, 60);\"></td><td title=\"Index: [4, 10]&#10;Color: (128, 0, 128)\" style=\"width: 20px; height: 20px;background-color: rgb(128, 0, 128);\"></td></tr><tr><td title=\"Index: [5, 0]&#10;Color: (255, 255, 255)\" style=\"width: 20px; height: 20px;background-color: rgb(255, 255, 255);\"></td><td title=\"Index: [5, 1]&#10;Color: (255, 255, 255)\" style=\"width: 20px; height: 20px;background-color: rgb(255, 255, 255);\"></td><td title=\"Index: [5, 2]&#10;Color: (255, 255, 255)\" style=\"width: 20px; height: 20px;background-color: rgb(255, 255, 255);\"></td><td title=\"Index: [5, 3]&#10;Color: (255, 255, 255)\" style=\"width: 20px; height: 20px;background-color: rgb(255, 255, 255);\"></td><td title=\"Index: [5, 4]&#10;Color: (255, 255, 255)\" style=\"width: 20px; height: 20px;background-color: rgb(255, 255, 255);\"></td><td title=\"Index: [5, 5]&#10;Color: (255, 255, 255)\" style=\"width: 20px; height: 20px;background-color: rgb(255, 255, 255);\"></td><td title=\"Index: [5, 6]&#10;Color: (255, 255, 255)\" style=\"width: 20px; height: 20px;background-color: rgb(255, 255, 255);\"></td><td title=\"Index: [5, 7]&#10;Color: (255, 255, 255)\" style=\"width: 20px; height: 20px;background-color: rgb(255, 255, 255);\"></td><td title=\"Index: [5, 8]&#10;Color: (255, 255, 255)\" style=\"width: 20px; height: 20px;background-color: rgb(255, 255, 255);\"></td><td title=\"Index: [5, 9]&#10;Color: (255, 255, 255)\" style=\"width: 20px; height: 20px;background-color: rgb(255, 255, 255);\"></td><td title=\"Index: [5, 10]&#10;Color: (255, 255, 255)\" style=\"width: 20px; height: 20px;background-color: rgb(255, 255, 255);\"></td></tr><tr><td title=\"Index: [6, 0]&#10;Color: (0, 255, 0)\" style=\"width: 20px; height: 20px;background-color: rgb(0, 255, 0);\"></td><td title=\"Index: [6, 1]&#10;Color: (0, 255, 0)\" style=\"width: 20px; height: 20px;background-color: rgb(0, 255, 0);\"></td><td title=\"Index: [6, 2]&#10;Color: (0, 255, 0)\" style=\"width: 20px; height: 20px;background-color: rgb(0, 255, 0);\"></td><td title=\"Index: [6, 3]&#10;Color: (0, 255, 0)\" style=\"width: 20px; height: 20px;background-color: rgb(0, 255, 0);\"></td><td title=\"Index: [6, 4]&#10;Color: (0, 255, 0)\" style=\"width: 20px; height: 20px;background-color: rgb(0, 255, 0);\"></td><td title=\"Index: [6, 5]&#10;Color: (255, 255, 255)\" style=\"width: 20px; height: 20px;background-color: rgb(255, 255, 255);\"></td><td title=\"Index: [6, 6]&#10;Color: (255, 255, 0)\" style=\"width: 20px; height: 20px;background-color: rgb(255, 255, 0);\"></td><td title=\"Index: [6, 7]&#10;Color: (255, 255, 0)\" style=\"width: 20px; height: 20px;background-color: rgb(255, 255, 0);\"></td><td title=\"Index: [6, 8]&#10;Color: (255, 255, 0)\" style=\"width: 20px; height: 20px;background-color: rgb(255, 255, 0);\"></td><td title=\"Index: [6, 9]&#10;Color: (255, 255, 0)\" style=\"width: 20px; height: 20px;background-color: rgb(255, 255, 0);\"></td><td title=\"Index: [6, 10]&#10;Color: (255, 255, 0)\" style=\"width: 20px; height: 20px;background-color: rgb(255, 255, 0);\"></td></tr><tr><td title=\"Index: [7, 0]&#10;Color: (0, 255, 0)\" style=\"width: 20px; height: 20px;background-color: rgb(0, 255, 0);\"></td><td title=\"Index: [7, 1]&#10;Color: (0, 255, 0)\" style=\"width: 20px; height: 20px;background-color: rgb(0, 255, 0);\"></td><td title=\"Index: [7, 2]&#10;Color: (0, 255, 0)\" style=\"width: 20px; height: 20px;background-color: rgb(0, 255, 0);\"></td><td title=\"Index: [7, 3]&#10;Color: (0, 255, 0)\" style=\"width: 20px; height: 20px;background-color: rgb(0, 255, 0);\"></td><td title=\"Index: [7, 4]&#10;Color: (0, 255, 0)\" style=\"width: 20px; height: 20px;background-color: rgb(0, 255, 0);\"></td><td title=\"Index: [7, 5]&#10;Color: (255, 255, 255)\" style=\"width: 20px; height: 20px;background-color: rgb(255, 255, 255);\"></td><td title=\"Index: [7, 6]&#10;Color: (255, 255, 0)\" style=\"width: 20px; height: 20px;background-color: rgb(255, 255, 0);\"></td><td title=\"Index: [7, 7]&#10;Color: (255, 255, 0)\" style=\"width: 20px; height: 20px;background-color: rgb(255, 255, 0);\"></td><td title=\"Index: [7, 8]&#10;Color: (255, 255, 0)\" style=\"width: 20px; height: 20px;background-color: rgb(255, 255, 0);\"></td><td title=\"Index: [7, 9]&#10;Color: (255, 255, 0)\" style=\"width: 20px; height: 20px;background-color: rgb(255, 255, 0);\"></td><td title=\"Index: [7, 10]&#10;Color: (255, 255, 0)\" style=\"width: 20px; height: 20px;background-color: rgb(255, 255, 0);\"></td></tr><tr><td title=\"Index: [8, 0]&#10;Color: (0, 255, 0)\" style=\"width: 20px; height: 20px;background-color: rgb(0, 255, 0);\"></td><td title=\"Index: [8, 1]&#10;Color: (0, 255, 0)\" style=\"width: 20px; height: 20px;background-color: rgb(0, 255, 0);\"></td><td title=\"Index: [8, 2]&#10;Color: (0, 255, 0)\" style=\"width: 20px; height: 20px;background-color: rgb(0, 255, 0);\"></td><td title=\"Index: [8, 3]&#10;Color: (0, 255, 0)\" style=\"width: 20px; height: 20px;background-color: rgb(0, 255, 0);\"></td><td title=\"Index: [8, 4]&#10;Color: (0, 255, 0)\" style=\"width: 20px; height: 20px;background-color: rgb(0, 255, 0);\"></td><td title=\"Index: [8, 5]&#10;Color: (255, 255, 255)\" style=\"width: 20px; height: 20px;background-color: rgb(255, 255, 255);\"></td><td title=\"Index: [8, 6]&#10;Color: (255, 255, 0)\" style=\"width: 20px; height: 20px;background-color: rgb(255, 255, 0);\"></td><td title=\"Index: [8, 7]&#10;Color: (255, 255, 0)\" style=\"width: 20px; height: 20px;background-color: rgb(255, 255, 0);\"></td><td title=\"Index: [8, 8]&#10;Color: (255, 255, 0)\" style=\"width: 20px; height: 20px;background-color: rgb(255, 255, 0);\"></td><td title=\"Index: [8, 9]&#10;Color: (255, 255, 0)\" style=\"width: 20px; height: 20px;background-color: rgb(255, 255, 0);\"></td><td title=\"Index: [8, 10]&#10;Color: (255, 255, 0)\" style=\"width: 20px; height: 20px;background-color: rgb(255, 255, 0);\"></td></tr><tr><td title=\"Index: [9, 0]&#10;Color: (0, 255, 0)\" style=\"width: 20px; height: 20px;background-color: rgb(0, 255, 0);\"></td><td title=\"Index: [9, 1]&#10;Color: (0, 255, 0)\" style=\"width: 20px; height: 20px;background-color: rgb(0, 255, 0);\"></td><td title=\"Index: [9, 2]&#10;Color: (0, 255, 0)\" style=\"width: 20px; height: 20px;background-color: rgb(0, 255, 0);\"></td><td title=\"Index: [9, 3]&#10;Color: (0, 255, 0)\" style=\"width: 20px; height: 20px;background-color: rgb(0, 255, 0);\"></td><td title=\"Index: [9, 4]&#10;Color: (0, 255, 0)\" style=\"width: 20px; height: 20px;background-color: rgb(0, 255, 0);\"></td><td title=\"Index: [9, 5]&#10;Color: (255, 255, 255)\" style=\"width: 20px; height: 20px;background-color: rgb(255, 255, 255);\"></td><td title=\"Index: [9, 6]&#10;Color: (255, 255, 0)\" style=\"width: 20px; height: 20px;background-color: rgb(255, 255, 0);\"></td><td title=\"Index: [9, 7]&#10;Color: (255, 255, 0)\" style=\"width: 20px; height: 20px;background-color: rgb(255, 255, 0);\"></td><td title=\"Index: [9, 8]&#10;Color: (255, 255, 0)\" style=\"width: 20px; height: 20px;background-color: rgb(255, 255, 0);\"></td><td title=\"Index: [9, 9]&#10;Color: (255, 255, 0)\" style=\"width: 20px; height: 20px;background-color: rgb(255, 255, 0);\"></td><td title=\"Index: [9, 10]&#10;Color: (255, 255, 0)\" style=\"width: 20px; height: 20px;background-color: rgb(255, 255, 0);\"></td></tr><tr><td title=\"Index: [10, 0]&#10;Color: (128, 0, 128)\" style=\"width: 20px; height: 20px;background-color: rgb(128, 0, 128);\"></td><td title=\"Index: [10, 1]&#10;Color: (128, 0, 128)\" style=\"width: 20px; height: 20px;background-color: rgb(128, 0, 128);\"></td><td title=\"Index: [10, 2]&#10;Color: (128, 0, 128)\" style=\"width: 20px; height: 20px;background-color: rgb(128, 0, 128);\"></td><td title=\"Index: [10, 3]&#10;Color: (128, 0, 128)\" style=\"width: 20px; height: 20px;background-color: rgb(128, 0, 128);\"></td><td title=\"Index: [10, 4]&#10;Color: (128, 0, 128)\" style=\"width: 20px; height: 20px;background-color: rgb(128, 0, 128);\"></td><td title=\"Index: [10, 5]&#10;Color: (255, 255, 255)\" style=\"width: 20px; height: 20px;background-color: rgb(255, 255, 255);\"></td><td title=\"Index: [10, 6]&#10;Color: (255, 255, 0)\" style=\"width: 20px; height: 20px;background-color: rgb(255, 255, 0);\"></td><td title=\"Index: [10, 7]&#10;Color: (255, 255, 0)\" style=\"width: 20px; height: 20px;background-color: rgb(255, 255, 0);\"></td><td title=\"Index: [10, 8]&#10;Color: (255, 255, 0)\" style=\"width: 20px; height: 20px;background-color: rgb(255, 255, 0);\"></td><td title=\"Index: [10, 9]&#10;Color: (255, 255, 0)\" style=\"width: 20px; height: 20px;background-color: rgb(255, 255, 0);\"></td><td title=\"Index: [10, 10]&#10;Color: (128, 0, 128)\" style=\"width: 20px; height: 20px;background-color: rgb(128, 0, 128);\"></td></tr></tbody></table>"
      ],
      "text/plain": [
       "<IPython.core.display.HTML object>"
      ]
     },
     "metadata": {},
     "output_type": "display_data"
    }
   ],
   "source": [
    "# AとBの積をCとする\n",
    "for i in range(n):\n",
    "    for j in range(n):\n",
    "        A[:, :] = colors['Lime']\n",
    "        B[:, :] = colors['Crimson']\n",
    "        C[:, :] = colors['Yellow']\n",
    "\n",
    "        A[i,:] = colors['Purple']\n",
    "        B[:, j] = colors['Purple']\n",
    "        C[i, j] = colors['Purple']\n",
    "        clear_output()\n",
    "        grid.show()\n",
    "        time.sleep(0.1)\n"
   ]
  },
  {
   "cell_type": "code",
   "execution_count": null,
   "metadata": {},
   "outputs": [],
   "source": []
  }
 ],
 "metadata": {
  "kernelspec": {
   "display_name": "web",
   "language": "python",
   "name": "python3"
  },
  "language_info": {
   "codemirror_mode": {
    "name": "ipython",
    "version": 3
   },
   "file_extension": ".py",
   "mimetype": "text/x-python",
   "name": "python",
   "nbconvert_exporter": "python",
   "pygments_lexer": "ipython3",
   "version": "3.12.4"
  },
  "orig_nbformat": 4
 },
 "nbformat": 4,
 "nbformat_minor": 2
}
